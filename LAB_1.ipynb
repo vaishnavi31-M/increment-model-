{
  "nbformat": 4,
  "nbformat_minor": 0,
  "metadata": {
    "colab": {
      "provenance": [],
      "authorship_tag": "ABX9TyOKGzbGDf69TNIPtZtS0ncT",
      "include_colab_link": true
    },
    "kernelspec": {
      "name": "python3",
      "display_name": "Python 3"
    },
    "language_info": {
      "name": "python"
    }
  },
  "cells": [
    {
      "cell_type": "markdown",
      "metadata": {
        "id": "view-in-github",
        "colab_type": "text"
      },
      "source": [
        "<a href=\"https://colab.research.google.com/github/vaishnavi31-M/increment-model-/blob/main/LAB_1.ipynb\" target=\"_parent\"><img src=\"https://colab.research.google.com/assets/colab-badge.svg\" alt=\"Open In Colab\"/></a>"
      ]
    },
    {
      "cell_type": "markdown",
      "source": [
        "1. Implement weather modeling* using the quadratic solution in stages: hard-coding variables keyboard input, read from a file, for a single set of input, multiple sets of inputs. a. save all versions, debug, fix problems, create a Github account Implementation outline for weather modeling using a quadratic solution. The approach evolves in stages:\n",
        " 1. Hardcoding variables.\n"
      ],
      "metadata": {
        "id": "NeyeYkyR3eYY"
      }
    },
    {
      "cell_type": "code",
      "source": [
        "def calculate_weather(T: float, H: float, Wi: float) -> str:\n",
        "    W = 0.5 * T**2 - 0.2 * H + 0.1 * Wi - 15\n",
        "    if W < 0:\n",
        "        return \"Stormy\"\n",
        "    elif W < 10:\n",
        "        return \"Rainy\"\n",
        "    elif W < 20:\n",
        "        return \"Cloudy\"\n",
        "    else:\n",
        "        return \"Sunny\"\n",
        "\n",
        "# Inputs\n",
        "T = 8\n",
        "H = 15\n",
        "Wi = 5\n",
        "\n",
        "# Calculate weather\n",
        "weather = calculate_weather(T, H, Wi)\n",
        "print(\"Weather:\", weather)\n"
      ],
      "metadata": {
        "colab": {
          "base_uri": "https://localhost:8080/"
        },
        "id": "CjVxXd3a7AHz",
        "outputId": "f2722ce8-5d59-4cb2-b2dd-d61b40c46210"
      },
      "execution_count": null,
      "outputs": [
        {
          "output_type": "stream",
          "name": "stdout",
          "text": [
            "Weather: Cloudy\n"
          ]
        }
      ]
    },
    {
      "cell_type": "markdown",
      "source": [
        "2.Accepting variables via keyboard input"
      ],
      "metadata": {
        "id": "BzQ-kdna8jO5"
      }
    },
    {
      "cell_type": "code",
      "source": [
        "def calculate_weather(T: float, H: float, Wi: float) -> str:\n",
        "    W = 0.5 * T**2 - 0.2 * H + 0.1 * Wi - 15\n",
        "    if W > 20:\n",
        "        return \"Stormy\"\n",
        "    elif W > 10:\n",
        "        return \"Rainy\"\n",
        "    elif W > 0:\n",
        "        return \"Cloudy\"\n",
        "    else:\n",
        "        return \"Clear\"\n",
        "\n",
        "def print_weather(weather: str) -> None:\n",
        "    print(\"Weather:\", weather)\n",
        "\n",
        "def main() -> None:\n",
        "    T = float(input(\"Enter temperature: \"))\n",
        "    H = float(input(\"Enter humidity: \"))\n",
        "    Wi = float(input(\"Enter wind speed: \"))\n",
        "    weather = calculate_weather(T, H, Wi)\n",
        "    print_weather(weather)\n",
        "\n",
        "if __name__ == \"__main__\":\n",
        "    main()\n"
      ],
      "metadata": {
        "colab": {
          "base_uri": "https://localhost:8080/"
        },
        "id": "ksxweW6b8imL",
        "outputId": "b0277974-6919-4ad0-fdfc-57fb3fc85b6d"
      },
      "execution_count": 3,
      "outputs": [
        {
          "output_type": "stream",
          "name": "stdout",
          "text": [
            "Enter temperature: 23\n",
            "Enter humidity: 45\n",
            "Enter wind speed: 54\n",
            "Weather: Stormy\n"
          ]
        }
      ]
    },
    {
      "cell_type": "markdown",
      "source": [
        "3.Reading variables from a file"
      ],
      "metadata": {
        "id": "oYIVluQW88B2"
      }
    },
    {
      "cell_type": "code",
      "source": [
        "import os\n",
        "\n",
        "def main() -> None:\n",
        "    # Check current working directory\n",
        "    print(\"Current Working Directory:\", os.getcwd())\n",
        "\n",
        "    # Specify the path to your data file\n",
        "    file_path = 'weather_data.txt'\n",
        "\n",
        "    # Create the file if it doesn't exist\n",
        "    if not os.path.exists(file_path):\n",
        "        with open(file_path, 'w') as f:\n",
        "            f.write(\"25.0 60.0 15.0\\n\")\n",
        "            f.write(\"30.0 70.0 10.0\\n\")\n",
        "            f.write(\"15.0 50.0 5.0\\n\")\n",
        "        print(f\"File '{file_path}' created with sample data.\")\n",
        "\n",
        "    weather_data = read_data_from_file(file_path)\n",
        "\n",
        "    for temperature, humidity, wind in weather_data:\n",
        "        W = calculate_weather_index(temperature, humidity, wind)\n",
        "        category = map_category(W)\n",
        "        print(f\"Weather Prediction: {category} (Temperature: {temperature}, Humidity: {humidity}, Wind: {wind})\")\n",
        "\n",
        "if __name__ == \"__main__\":\n",
        "    main()"
      ],
      "metadata": {
        "colab": {
          "base_uri": "https://localhost:8080/"
        },
        "id": "QlQNqWe39jjO",
        "outputId": "56d984cf-6ae8-4a78-9abb-d5d3a79da0e3"
      },
      "execution_count": 6,
      "outputs": [
        {
          "output_type": "stream",
          "name": "stdout",
          "text": [
            "Current Working Directory: /content\n",
            "File 'weather_data.txt' created with sample data.\n",
            "Weather Prediction: Stormy (Temperature: 25.0, Humidity: 60.0, Wind: 15.0)\n",
            "Weather Prediction: Stormy (Temperature: 30.0, Humidity: 70.0, Wind: 10.0)\n",
            "Weather Prediction: Stormy (Temperature: 15.0, Humidity: 50.0, Wind: 5.0)\n"
          ]
        }
      ]
    },
    {
      "cell_type": "markdown",
      "source": [
        "4.processing a single set of inputs"
      ],
      "metadata": {
        "id": "uTPZwkPZC04O"
      }
    },
    {
      "cell_type": "code",
      "source": [
        "def calculate_weather(T: float, H: float, Wi: float) -> str:\n",
        "    \"\"\"Calculate the weather condition based on temperature, humidity, and wind speed.\"\"\"\n",
        "    W = 0.5 * T**2 - 0.2 * H + 0.1 * Wi - 15\n",
        "    if W < 0:\n",
        "        return \"Stormy\"\n",
        "    elif W < 10:\n",
        "        return \"Rainy\"\n",
        "    elif W < 20:\n",
        "        return \"Cloudy\"\n",
        "    else:\n",
        "        return \"Sunny\"\n",
        "\n",
        "def main() -> None:\n",
        "    \"\"\"Directly input temperature, humidity, and wind speed and calculate the weather.\"\"\"\n",
        "    # Input values for temperature, humidity, and wind speed\n",
        "    T = 20  # Example temperature\n",
        "    H = 30  # Example humidity\n",
        "    Wi = 40  # Example wind speed\n",
        "\n",
        "    # Calculate the weather and display the result\n",
        "    weather = calculate_weather(T, H, Wi)\n",
        "    print(\"Weather:\", weather)\n",
        "\n",
        "if __name__ == \"__main__\":\n",
        "    main()\n"
      ],
      "metadata": {
        "colab": {
          "base_uri": "https://localhost:8080/"
        },
        "id": "CdARb8NRC9x8",
        "outputId": "d94beb36-925c-4c2d-ae6c-92dbc2c2eb68"
      },
      "execution_count": null,
      "outputs": [
        {
          "output_type": "stream",
          "name": "stdout",
          "text": [
            "Weather: Sunny\n"
          ]
        }
      ]
    },
    {
      "cell_type": "markdown",
      "source": [
        "5.5. Processing multiple sets of inputs"
      ],
      "metadata": {
        "id": "BMpaakLzHU2T"
      }
    },
    {
      "cell_type": "code",
      "source": [
        "def read_data_from_file(file_path: str) -> list:\n",
        "    with open(file_path, 'r') as file:\n",
        "        data = []\n",
        "        for line in file:\n",
        "            temperature, humidity, wind = map(float, line.strip().split())\n",
        "            data.append((temperature, humidity, wind))\n",
        "    return data\n",
        "\n",
        "def main() -> None:\n",
        "    file_path = 'weather_data.txt'  # Specify the path to your data file\n",
        "    weather_data = read_data_from_file(file_path)\n",
        "\n",
        "    for temperature, humidity, wind in weather_data:\n",
        "        W = calculate_weather_index(temperature, humidity, wind)\n",
        "        category = map_category(W)\n",
        "        print(f\"Weather Prediction: {category} (Temperature: {temperature}, Humidity: {humidity}, Wind: {wind})\")\n",
        "\n",
        "if __name__ == \"__main__\":\n",
        "    main()"
      ],
      "metadata": {
        "colab": {
          "base_uri": "https://localhost:8080/"
        },
        "id": "eutEoHxsISWD",
        "outputId": "1f0ab1c6-cf8a-4d84-b681-20b7aebf784e"
      },
      "execution_count": 7,
      "outputs": [
        {
          "output_type": "stream",
          "name": "stdout",
          "text": [
            "Weather Prediction: Stormy (Temperature: 25.0, Humidity: 60.0, Wind: 15.0)\n",
            "Weather Prediction: Stormy (Temperature: 30.0, Humidity: 70.0, Wind: 10.0)\n",
            "Weather Prediction: Stormy (Temperature: 15.0, Humidity: 50.0, Wind: 5.0)\n"
          ]
        }
      ]
    }
  ]
}