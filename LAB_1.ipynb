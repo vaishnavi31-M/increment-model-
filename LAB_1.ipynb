{
  "nbformat": 4,
  "nbformat_minor": 0,
  "metadata": {
    "colab": {
      "provenance": [],
      "authorship_tag": "ABX9TyPLE+h7QkmVkoCXWc970Sxs",
      "include_colab_link": true
    },
    "kernelspec": {
      "name": "python3",
      "display_name": "Python 3"
    },
    "language_info": {
      "name": "python"
    }
  },
  "cells": [
    {
      "cell_type": "markdown",
      "metadata": {
        "id": "view-in-github",
        "colab_type": "text"
      },
      "source": [
        "<a href=\"https://colab.research.google.com/github/vaishnavi31-M/increment-model-/blob/main/LAB_1.ipynb\" target=\"_parent\"><img src=\"https://colab.research.google.com/assets/colab-badge.svg\" alt=\"Open In Colab\"/></a>"
      ]
    },
    {
      "cell_type": "markdown",
      "source": [
        "1. Implement weather modeling* using the quadratic solution in stages: hard-coding variables keyboard input, read from a file, for a single set of input, multiple sets of inputs. a. save all versions, debug, fix problems, create a Github account Implementation outline for weather modeling using a quadratic solution. The approach evolves in stages:\n",
        " 1. Hardcoding variables.\n"
      ],
      "metadata": {
        "id": "NeyeYkyR3eYY"
      }
    },
    {
      "cell_type": "code",
      "source": [
        "def calculate_weather(T: float, H: float, Wi: float) -> str:\n",
        "    W = 0.5 * T**2 - 0.2 * H + 0.1 * Wi - 15\n",
        "    if W < 0:\n",
        "        return \"Stormy\"\n",
        "    elif W < 10:\n",
        "        return \"Rainy\"\n",
        "    elif W < 20:\n",
        "        return \"Cloudy\"\n",
        "    else:\n",
        "        return \"Sunny\"\n",
        "\n",
        "# Inputs\n",
        "T = 8\n",
        "H = 15\n",
        "Wi = 5\n",
        "\n",
        "# Calculate weather\n",
        "weather = calculate_weather(T, H, Wi)\n",
        "print(\"Weather:\", weather)\n"
      ],
      "metadata": {
        "colab": {
          "base_uri": "https://localhost:8080/"
        },
        "id": "CjVxXd3a7AHz",
        "outputId": "f2722ce8-5d59-4cb2-b2dd-d61b40c46210"
      },
      "execution_count": null,
      "outputs": [
        {
          "output_type": "stream",
          "name": "stdout",
          "text": [
            "Weather: Cloudy\n"
          ]
        }
      ]
    },
    {
      "cell_type": "markdown",
      "source": [
        "2.Accepting variables via keyboard input"
      ],
      "metadata": {
        "id": "BzQ-kdna8jO5"
      }
    },
    {
      "cell_type": "code",
      "source": [
        "def calculate_weather(T: float, H: float, Wi: float) -> str:\n",
        "    \"\"\"Calculate the weather condition based on temperature, humidity, and wind speed.\"\"\"\n",
        "    W = 0.5 * T**2 - 0.2 * H + 0.1 * Wi - 15\n",
        "    if W < 0:\n",
        "        return \"Stormy\"\n",
        "    elif W < 10:\n",
        "        return \"Rainy\"\n",
        "    elif W < 20:\n",
        "        return \"Cloudy\"\n",
        "    else:\n",
        "        return \"Sunny\"\n",
        "\n",
        "def main() -> None:\n",
        "    try:\n",
        "        T = float(input(\"Enter temperature (T): \"))\n",
        "        H = float(input(\"Enter humidity (H): \"))\n",
        "        Wi = float(input(\"Enter wind speed (Wi): \"))\n",
        "\n",
        "        weather = calculate_weather(T, H, Wi)\n",
        "        print(\"Weather:\", weather)\n",
        "    except ValueError:\n",
        "        print(\"Invalid input. Please enter numeric values for T, H, and Wi.\")\n",
        "\n",
        "if __name__ == \"__main__\":\n",
        "    main()\n"
      ],
      "metadata": {
        "colab": {
          "base_uri": "https://localhost:8080/"
        },
        "id": "ksxweW6b8imL",
        "outputId": "e4f465d6-cf5a-421b-9a0d-aa3af08afbb6"
      },
      "execution_count": null,
      "outputs": [
        {
          "output_type": "stream",
          "name": "stdout",
          "text": [
            "Enter temperature (T): 22\n",
            "Enter humidity (H): 1\n",
            "Enter wind speed (Wi): 47\n",
            "Weather: Sunny\n"
          ]
        }
      ]
    },
    {
      "cell_type": "markdown",
      "source": [
        "3.Reading variables from a file"
      ],
      "metadata": {
        "id": "oYIVluQW88B2"
      }
    },
    {
      "cell_type": "code",
      "source": [
        "import os\n",
        "\n",
        "def main() -> None:\n",
        "    \"\"\"Reads temperature, humidity, and wind speed from a file and calculates the weather.\"\"\"\n",
        "    try:\n",
        "        # Specify the path to the file in the Downloads folder\n",
        "        file_path = os.path.expanduser('~/Downloads/weather_report.txt')\n",
        "\n",
        "        # Print the file path for debugging purposes\n",
        "        print(f\"Looking for the file at: {file_path}\")\n",
        "\n",
        "        # Read the first line from the file\n",
        "        with open(file_path, 'r') as file:\n",
        "            data = file.readline().strip()\n",
        "\n",
        "            # Split the data into T, H, and Wi values and convert them to floats\n",
        "            T, H, Wi = map(float, data.split(','))\n",
        "\n",
        "            # Calculate the weather and display the result\n",
        "            weather = calculate_weather(T, H, Wi)\n",
        "            print(\"Weather:\", weather)\n",
        "    except FileNotFoundError:\n",
        "        print(f\"File not found at {file_path}. Please make sure 'weather_report.txt' exists in the Downloads folder.\")\n",
        "    except ValueError:\n",
        "        print(\"Invalid input format in the file. Ensure it follows 'T, H, Wi' format.\")\n",
        "\n",
        "if __name__ == \"__main__\":\n",
        "    main()\n"
      ],
      "metadata": {
        "colab": {
          "base_uri": "https://localhost:8080/"
        },
        "id": "QlQNqWe39jjO",
        "outputId": "b3f0919c-4a99-4d74-999d-d0e3759cb2a8"
      },
      "execution_count": null,
      "outputs": [
        {
          "output_type": "stream",
          "name": "stdout",
          "text": [
            "Looking for the file at: /root/Downloads/weather_report.txt\n",
            "File not found at /root/Downloads/weather_report.txt. Please make sure 'weather_report.txt' exists in the Downloads folder.\n"
          ]
        }
      ]
    },
    {
      "cell_type": "markdown",
      "source": [
        "4.processing a single set of inputs"
      ],
      "metadata": {
        "id": "uTPZwkPZC04O"
      }
    },
    {
      "cell_type": "code",
      "source": [
        "def calculate_weather(T: float, H: float, Wi: float) -> str:\n",
        "    \"\"\"Calculate the weather condition based on temperature, humidity, and wind speed.\"\"\"\n",
        "    W = 0.5 * T**2 - 0.2 * H + 0.1 * Wi - 15\n",
        "    if W < 0:\n",
        "        return \"Stormy\"\n",
        "    elif W < 10:\n",
        "        return \"Rainy\"\n",
        "    elif W < 20:\n",
        "        return \"Cloudy\"\n",
        "    else:\n",
        "        return \"Sunny\"\n",
        "\n",
        "def main() -> None:\n",
        "    \"\"\"Directly input temperature, humidity, and wind speed and calculate the weather.\"\"\"\n",
        "    # Input values for temperature, humidity, and wind speed\n",
        "    T = 20  # Example temperature\n",
        "    H = 30  # Example humidity\n",
        "    Wi = 40  # Example wind speed\n",
        "\n",
        "    # Calculate the weather and display the result\n",
        "    weather = calculate_weather(T, H, Wi)\n",
        "    print(\"Weather:\", weather)\n",
        "\n",
        "if __name__ == \"__main__\":\n",
        "    main()\n"
      ],
      "metadata": {
        "colab": {
          "base_uri": "https://localhost:8080/"
        },
        "id": "CdARb8NRC9x8",
        "outputId": "d94beb36-925c-4c2d-ae6c-92dbc2c2eb68"
      },
      "execution_count": null,
      "outputs": [
        {
          "output_type": "stream",
          "name": "stdout",
          "text": [
            "Weather: Sunny\n"
          ]
        }
      ]
    }
  ]
}